{
 "cells": [
  {
   "cell_type": "code",
   "execution_count": 10,
   "metadata": {
    "collapsed": false
   },
   "outputs": [
    {
     "name": "stdout",
     "output_type": "stream",
     "text": [
      "Iteration 0. Get parents by regions [1]. Result [2, 3, 4]\n",
      "Region 14 not in [2, 3, 4]\n",
      "Iteration 1. Get parents by regions [2, 3, 4]. Result [14]\n",
      "True\n"
     ]
    }
   ],
   "source": [
    "import dbProvider as db\n",
    "def isChildrenRegion(regionId, mainRegionId):\n",
    "    parents = [mainRegionId]\n",
    "    cnt = 0\n",
    "    while len(parents) > 0:\n",
    "        regions = db.getRegionIdsByParentIds(parents)\n",
    "        print(\"Iteration {}. Get parents by regions {}. Result {}\".format(cnt, parents, regions))\n",
    "        if regionId in regions:\n",
    "            return True\n",
    "        print(\"Region {} not in {}\".format(regionId, regions))\n",
    "        parents = regions\n",
    "        cnt += 1\n",
    "    return False\n",
    "print(isChildrenRegion(14,1))"
   ]
  },
  {
   "cell_type": "code",
   "execution_count": null,
   "metadata": {
    "collapsed": true
   },
   "outputs": [],
   "source": []
  }
 ],
 "metadata": {
  "kernelspec": {
   "display_name": "Python 3",
   "language": "python",
   "name": "python3"
  },
  "language_info": {
   "codemirror_mode": {
    "name": "ipython",
    "version": 3
   },
   "file_extension": ".py",
   "mimetype": "text/x-python",
   "name": "python",
   "nbconvert_exporter": "python",
   "pygments_lexer": "ipython3",
   "version": "3.6.0"
  }
 },
 "nbformat": 4,
 "nbformat_minor": 2
}
