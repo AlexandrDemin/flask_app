{
 "cells": [
  {
   "cell_type": "code",
   "execution_count": 5,
   "metadata": {
    "collapsed": false
   },
   "outputs": [
    {
     "name": "stdout",
     "output_type": "stream",
     "text": [
      "Краснодарский край\n",
      "\tАбинский район\n",
      "\tАпшеронский район\n",
      "\tБелоглинский район\n",
      "\tБелореченский район\n",
      "\tБрюховецкий район\n",
      "\tВыселковский район\n",
      "\tГулькевичский район\n",
      "\tДинской район\n",
      "\tЕйский район\n",
      "\tКавказский район\n",
      "\tКалининский район\n",
      "\tКаневской район\n",
      "\tКореновский район\n",
      "\tКрасноармейский район\n",
      "\tКрыловский район\n",
      "\tКрымский район\n",
      "\tКурганинский район\n",
      "\tКущёвский район\n",
      "\tЛабинский район\n",
      "\tЛенинградский район\n",
      "\tМостовский район\n",
      "\tНовокубанский район\n",
      "\tНовопокровский район\n",
      "\tОтрадненский район\n",
      "\tПавловский район\n",
      "\tПриморско-Ахтарский район\n",
      "\tСеверский район\n",
      "\tСлавянский район\n",
      "\tСтароминский район\n",
      "\tТбилисский район\n",
      "\tТемрюкский район\n",
      "\tТимашевский район\n",
      "\tТихорецкий район\n",
      "\tТуапсинский район\n",
      "\tУспенский район\n",
      "\tУсть-Лабинский район\n",
      "\tЩербиновский район\n",
      "\tгородской округ Армавир\n",
      "\tгородской округ Геленджик\n",
      "\tгородской округ Город Анапа\n",
      "\tгородской округ Город Краснодар\n",
      "\tгородской округ Горячий Ключ\n",
      "\tгородской округ Ейск\n",
      "\tгородской округ Новороссийск\n",
      "\tгородской округ Сочи\n",
      "\tгородской округ Туапсе\n",
      "\tп. Кучугуры\n",
      "\tп. Юбилейный\n",
      "None\n"
     ]
    }
   ],
   "source": [
    "import dbProvider as db\n",
    "\n",
    "tree=db.getRegionsTree(parentIds=[5973], depth=2)\n",
    "\n",
    "for t in tree:\n",
    "    print(t['name'])\n",
    "    for t1 in t['children']:\n",
    "        print('\\t' + t1['name'])\n",
    "        \n",
    "print(db.getSubdomainByMainRegionId(6096))"
   ]
  },
  {
   "cell_type": "code",
   "execution_count": 12,
   "metadata": {
    "collapsed": false
   },
   "outputs": [
    {
     "name": "stdout",
     "output_type": "stream",
     "text": [
      "www\n"
     ]
    }
   ],
   "source": [
    "print(db.getSubdomainByRegionId(7185))"
   ]
  },
  {
   "cell_type": "code",
   "execution_count": null,
   "metadata": {
    "collapsed": true
   },
   "outputs": [],
   "source": []
  }
 ],
 "metadata": {
  "kernelspec": {
   "display_name": "Python 3",
   "language": "python",
   "name": "python3"
  },
  "language_info": {
   "codemirror_mode": {
    "name": "ipython",
    "version": 3
   },
   "file_extension": ".py",
   "mimetype": "text/x-python",
   "name": "python",
   "nbconvert_exporter": "python",
   "pygments_lexer": "ipython3",
   "version": "3.6.0"
  }
 },
 "nbformat": 4,
 "nbformat_minor": 2
}
