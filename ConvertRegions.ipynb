{
 "cells": [
  {
   "cell_type": "code",
   "execution_count": 9,
   "metadata": {
    "collapsed": false
   },
   "outputs": [
    {
     "name": "stdout",
     "output_type": "stream",
     "text": [
      "Done\n"
     ]
    }
   ],
   "source": [
    "import json\n",
    "import codecs\n",
    "from operator import itemgetter\n",
    "\n",
    "json_data = open(\"configs/regions_m.json\").read()\n",
    "regm = json.loads(json_data)\n",
    "\n",
    "def getRegion(id):\n",
    "    for reg in regm:\n",
    "        if reg[\"id\"] == id:\n",
    "            return reg\n",
    "    return None\n",
    "\n",
    "def getLevel(region):\n",
    "    reg = region\n",
    "    level = 0\n",
    "    while reg != None:\n",
    "        reg = getRegion(reg[\"parentId\"])\n",
    "        level += 1\n",
    "    return level\n",
    "\n",
    "newRegions = []\n",
    "\n",
    "moskvaIOblast = {\n",
    "        \"id\": 0,\n",
    "        \"name\": u\"Москва и Московская область\",\n",
    "        \"dativeCaseName\": u\"Москве и Московской области\",\n",
    "        \"administrativeTypeString\": \"\",\n",
    "        \"nameTranslit\": \"moskva-i-moskovskaya-oblast\",\n",
    "        \"dativeTranslit\": \"moskve-i-moskovskoy-oblasti\",\n",
    "        \"parentId\": None,\n",
    "        \"lat\": 55.755814,\n",
    "        \"lon\": 37.617635,\n",
    "        \"level\": 1\n",
    "    }\n",
    "\n",
    "\n",
    "regm.append(moskvaIOblast)\n",
    "newRegions.append(moskvaIOblast)\n",
    "\n",
    "for reg in regm:\n",
    "    nreg = {}\n",
    "    if reg[\"id\"] > 0:\n",
    "        nreg['id'] = reg[\"id\"]\n",
    "        nreg[\"name\"] = reg[\"cannonicalName\"]\n",
    "        nreg[\"dativeCaseName\"] = reg[\"dativeName\"]\n",
    "        nreg[\"administrativeTypeString\"] = reg[\"name\"].replace(reg[\"cannonicalName\"], \"\")\n",
    "        nreg[\"nameTranslit\"] = reg[\"translitedCannonicalName\"]\n",
    "        nreg[\"dativeTranslit\"] = reg[\"translitedDativeName\"]\n",
    "        nreg[\"parentId\"] = reg[\"parentId\"]\n",
    "        nreg[\"lat\"] = reg[\"lat\"]\n",
    "        nreg[\"lon\"] = reg[\"lon\"]\n",
    "        nreg[\"level\"] = getLevel(nreg)\n",
    "        newRegions.append(nreg)\n",
    "    \n",
    "sortedRegs = sorted(newRegions, key=itemgetter('id')) \n",
    "    \n",
    "jsonString = json.dumps(sortedRegs, ensure_ascii=False)\n",
    "\n",
    "f = codecs.open('configs/regions_new.json', 'w', \"utf-8\")\n",
    "f.write(jsonString)\n",
    "f.close()\n",
    "\n",
    "print('Done')"
   ]
  },
  {
   "cell_type": "code",
   "execution_count": null,
   "metadata": {
    "collapsed": true
   },
   "outputs": [],
   "source": []
  }
 ],
 "metadata": {
  "kernelspec": {
   "display_name": "Python 3",
   "language": "python",
   "name": "python3"
  },
  "language_info": {
   "codemirror_mode": {
    "name": "ipython",
    "version": 3
   },
   "file_extension": ".py",
   "mimetype": "text/x-python",
   "name": "python",
   "nbconvert_exporter": "python",
   "pygments_lexer": "ipython3",
   "version": "3.6.0"
  }
 },
 "nbformat": 4,
 "nbformat_minor": 2
}
