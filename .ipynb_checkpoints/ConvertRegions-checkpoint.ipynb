{
 "cells": [
  {
   "cell_type": "code",
   "execution_count": 7,
   "metadata": {
    "collapsed": false
   },
   "outputs": [
    {
     "name": "stdout",
     "output_type": "stream",
     "text": [
      "Done\n"
     ]
    }
   ],
   "source": [
    "import json\n",
    "import codecs\n",
    "from operator import itemgetter\n",
    "\n",
    "json_data = open(\"configs/regions_m.json\").read()\n",
    "regm = json.loads(json_data)\n",
    "\n",
    "minId = 5972\n",
    "\n",
    "def getRegion(id):\n",
    "    for reg in regm:\n",
    "        if reg[\"id\"] == id:\n",
    "            return reg\n",
    "    return None\n",
    "\n",
    "def getLevel(region):\n",
    "    reg = region\n",
    "    level = 1\n",
    "    while reg != None and reg.get(\"parentId\", None) != None:\n",
    "        regParentId = reg[\"parentId\"]\n",
    "        if(regParentId >= minId):\n",
    "            regParentId -= minId\n",
    "        reg = getRegion(regParentId)\n",
    "        level += 1\n",
    "    return level\n",
    "\n",
    "newRegions = []\n",
    "\n",
    "for reg in regm:\n",
    "    nreg = {}\n",
    "    nreg['id'] = reg[\"id\"] + minId\n",
    "    nreg[\"name\"] = reg[\"cannonicalName\"]\n",
    "    nreg[\"dativeCaseName\"] = reg[\"dativeName\"]\n",
    "    nreg[\"administrativeTypeString\"] = reg[\"localityType\"]\n",
    "    nreg[\"nameTranslit\"] = reg[\"translitedCannonicalName\"]\n",
    "    nreg[\"dativeTranslit\"] = reg[\"translitedDativeName\"]\n",
    "    if reg[\"parentId\"] != None:\n",
    "        nreg[\"parentId\"] = reg[\"parentId\"] + minId\n",
    "    nreg[\"lat\"] = reg[\"lat\"]\n",
    "    nreg[\"lon\"] = reg[\"lon\"]\n",
    "    nreg[\"level\"] = getLevel(nreg)\n",
    "    newRegions.append(nreg)\n",
    "    \n",
    "sortedRegs = sorted(newRegions, key=itemgetter('id')) \n",
    "    \n",
    "jsonString = json.dumps(sortedRegs, ensure_ascii=False)\n",
    "\n",
    "f = codecs.open('configs/regions_new.json', 'w', \"utf-8\")\n",
    "f.write(jsonString)\n",
    "f.close()\n",
    "\n",
    "print('Done')"
   ]
  },
  {
   "cell_type": "code",
   "execution_count": null,
   "metadata": {
    "collapsed": true
   },
   "outputs": [],
   "source": []
  }
 ],
 "metadata": {
  "kernelspec": {
   "display_name": "Python 3",
   "language": "python",
   "name": "python3"
  },
  "language_info": {
   "codemirror_mode": {
    "name": "ipython",
    "version": 3
   },
   "file_extension": ".py",
   "mimetype": "text/x-python",
   "name": "python",
   "nbconvert_exporter": "python",
   "pygments_lexer": "ipython3",
   "version": "3.6.0"
  }
 },
 "nbformat": 4,
 "nbformat_minor": 2
}
