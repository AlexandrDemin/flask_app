{
 "cells": [
  {
   "cell_type": "code",
   "execution_count": 15,
   "metadata": {
    "collapsed": false
   },
   "outputs": [
    {
     "name": "stdout",
     "output_type": "stream",
     "text": [
      "[{'id': 1, 'name': 'Москва', 'wrongLayoutName': 'Vjcrdf', 'dativeCaseName': 'Москве', 'administrativeTypeString': 'г.', 'nameTranslit': 'moskva', 'dativeTranslit': 'moskve', 'level': 1, 'parentId': 1, 'lat': -25.363, 'lng': 131.044}, {'id': 2, 'name': 'Балашиха', 'wrongLayoutName': '<fkfib[f', 'dativeCaseName': 'Балашихе', 'administrativeTypeString': 'г.', 'nameTranslit': 'balashikha', 'dativeTranslit': 'balashikhe', 'level': 2, 'parentId': 1, 'lat': -25.363, 'lng': 131.044}, {'id': 3, 'name': 'Шатура', 'wrongLayoutName': 'Ifnehf', 'dativeCaseName': 'Шатуре', 'administrativeTypeString': 'г.', 'nameTranslit': 'shatura', 'dativeTranslit': 'shature', 'level': 2, 'parentId': 1, 'lat': -25.363, 'lng': 131.044}]\n",
      "[]\n",
      "False\n"
     ]
    }
   ],
   "source": [
    "import dbProvider as db\n",
    "def isChildrenRegion1(regionId, mainRegionId):\n",
    "    parents = [mainRegionId]\n",
    "    cnt = 0\n",
    "    while len(parents) > 0:\n",
    "        regions = db.getRegionIdsByParentIds(parents)\n",
    "        print(regions)\n",
    "        if regionId in regions:\n",
    "            return True\n",
    "        parents = db.getRegionIdsByParentIds(regions)\n",
    "        print(parents)\n",
    "        cnt += 1\n",
    "    return False\n",
    "print(isChildrenRegion1(9, 1))"
   ]
  },
  {
   "cell_type": "code",
   "execution_count": null,
   "metadata": {
    "collapsed": true
   },
   "outputs": [],
   "source": []
  }
 ],
 "metadata": {
  "kernelspec": {
   "display_name": "Python 3",
   "language": "python",
   "name": "python3"
  },
  "language_info": {
   "codemirror_mode": {
    "name": "ipython",
    "version": 3
   },
   "file_extension": ".py",
   "mimetype": "text/x-python",
   "name": "python",
   "nbconvert_exporter": "python",
   "pygments_lexer": "ipython3",
   "version": "3.6.0"
  }
 },
 "nbformat": 4,
 "nbformat_minor": 2
}
